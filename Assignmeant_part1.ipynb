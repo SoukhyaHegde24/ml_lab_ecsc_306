{
 "cells": [
  {
   "cell_type": "code",
   "execution_count": 8,
   "metadata": {
    "collapsed": true
   },
   "outputs": [],
   "source": [
    "import tensorflow as tf\n",
    "\n",
    "x = tf.constant([1,2,3],dtype=tf.float32)\n",
    "y= tf.constant([4,5,6],dtype=tf.float32)\n",
    "\n",
    "with tf.name_scope(\"meanx\"):\n",
    "    mean_x=0\n",
    "    mean_y=0\n",
    "    for i in range(3):\n",
    "        xmean=tf.div(tf.add(x[i], mean_x),3)\n",
    "        ymean=tf.div(tf.add(x[i], mean_y),3)\n",
    "\n",
    "\n",
    "\n",
    "\n"
   ]
  },
  {
   "cell_type": "code",
   "execution_count": 9,
   "metadata": {
    "collapsed": true
   },
   "outputs": [],
   "source": [
    "#variancex=pow((x[i]-meanx),2)+variancex\n",
    "        \n",
    "with tf.name_scope(\"variance\"):\n",
    "    variance_x=0\n",
    "    for i in range(3):\n",
    "        a=tf.subtract(x[i],xmean)\n",
    "        b=tf.pow(a,2)\n",
    "        variancex=tf.add(b,variance_x)\n",
    "\n",
    "    \n",
    "        \n"
   ]
  },
  {
   "cell_type": "code",
   "execution_count": 10,
   "metadata": {
    "collapsed": true
   },
   "outputs": [],
   "source": [
    "#$$covariance = sum((x(i) - mean(x)) * (y(i) - mean(y)))$$\n",
    "with tf.name_scope(\"covairance_x\"):\n",
    "    covariancex=0\n",
    "    for i in range(3):\n",
    "        covariancex=tf.add(tf.multiply(tf.subtract(x[i],xmean),tf.subtract(y[i],ymean)),covariancex)\n",
    "\n",
    "                           "
   ]
  },
  {
   "cell_type": "code",
   "execution_count": 11,
   "metadata": {},
   "outputs": [],
   "source": [
    "#$$c = covariance(x,y)/variance(x)$$\n",
    "with tf.name_scope(\"c\"):\n",
    "    c=tf.div(covariancex,variancex)\n"
   ]
  },
  {
   "cell_type": "code",
   "execution_count": 12,
   "metadata": {},
   "outputs": [
    {
     "name": "stdout",
     "output_type": "stream",
     "text": [
      "1.0\n",
      "1.0\n",
      "4.0\n",
      "14.0\n",
      "3.5\n",
      "-2.5\n"
     ]
    }
   ],
   "source": [
    "#$$m = mean(y) -c* mean(x)$$\n",
    "with tf.name_scope(\"m\"):\n",
    "    m=tf.subtract(ymean,tf.multiply(c,xmean))\n",
    "with tf.Session() as sess:\n",
    "    writer = tf.summary.FileWriter(\"/tmp/tboard/output1\", sess.graph)\n",
    "    print(sess.run(xmean))\n",
    "    print(sess.run(ymean))\n",
    "    print(sess.run(variancex))\n",
    "    print(sess.run(covariancex))\n",
    "    print(sess.run(c))\n",
    "    print(sess.run(m))\n",
    "    writer.close()"
   ]
  },
  {
   "cell_type": "code",
   "execution_count": null,
   "metadata": {
    "collapsed": true
   },
   "outputs": [],
   "source": []
  }
 ],
 "metadata": {
  "kernelspec": {
   "display_name": "Python 3",
   "language": "python",
   "name": "python3"
  },
  "language_info": {
   "codemirror_mode": {
    "name": "ipython",
    "version": 3
   },
   "file_extension": ".py",
   "mimetype": "text/x-python",
   "name": "python",
   "nbconvert_exporter": "python",
   "pygments_lexer": "ipython3",
   "version": "3.6.1"
  }
 },
 "nbformat": 4,
 "nbformat_minor": 2
}
